{
 "cells": [
  {
   "cell_type": "code",
   "execution_count": null,
   "metadata": {},
   "outputs": [],
   "source": [
    "import numpy as np\n",
    "import pandas as pd\n",
    "from sklearn.model_selection import train_test_split\n",
    "import keras\n",
    "from keras.models import Sequential\n",
    "from keras.layers import Dense"
   ]
  },
  {
   "cell_type": "code",
   "execution_count": null,
   "metadata": {},
   "outputs": [],
   "source": [
    "previsores = pd.read_csv(\"db/entradas_breast.csv\")\n",
    "classes = pd.read_csv(\"db/saidas_breast.csv\")"
   ]
  },
  {
   "cell_type": "code",
   "execution_count": null,
   "metadata": {},
   "outputs": [],
   "source": [
    "previsores.head()"
   ]
  },
  {
   "cell_type": "code",
   "execution_count": null,
   "metadata": {},
   "outputs": [],
   "source": [
    "classes.head()"
   ]
  },
  {
   "cell_type": "code",
   "execution_count": null,
   "metadata": {},
   "outputs": [],
   "source": [
    "previsores_treinamento, previsores_teste, classe_treinamento, classe_teste = train_test_split(previsores, classes, test_size=0.25)"
   ]
  },
  {
   "cell_type": "code",
   "execution_count": null,
   "metadata": {},
   "outputs": [],
   "source": [
    "classe_treinamento.head()"
   ]
  },
  {
   "cell_type": "code",
   "execution_count": null,
   "metadata": {},
   "outputs": [],
   "source": [
    "classificador = Sequential()\n",
    "# units = Perceptrons da camanda escondida = (Entrada + saida) / 2\n",
    "classificador.add(Dense(\n",
    "                    units=16,\n",
    "                    activation='relu',\n",
    "                    kernel_initializer='random_uniform',\n",
    "                    input_dim = 30 #Camada de entrada criada implicitamente come ste parametro\n",
    "                ))\n",
    "\n",
    "#Camada de saida\n",
    "classificador.add(Dense(\n",
    "                    units=1,\n",
    "                    activation='sigmoid',\n",
    "                ))"
   ]
  },
  {
   "cell_type": "code",
   "execution_count": null,
   "metadata": {},
   "outputs": [],
   "source": [
    "classificador.compile(\n",
    "    optimizer= 'adam',\n",
    "    loss= 'binary_crossentropy',\n",
    "    metrics= ['binary_accuracy']\n",
    ")\n",
    "\n",
    "classificador.fit(\n",
    "    x= previsores_treinamento,\n",
    "    y= classe_treinamento,\n",
    "    batch_size= 10,\n",
    "    epochs= 100\n",
    ")"
   ]
  },
  {
   "cell_type": "code",
   "execution_count": null,
   "metadata": {},
   "outputs": [],
   "source": [
    "previsoes = classificador.predict(previsores_teste)\n",
    "# previsoes"
   ]
  },
  {
   "cell_type": "code",
   "execution_count": null,
   "metadata": {},
   "outputs": [],
   "source": [
    "resultado = classificador.evaluate(previsores_teste, classe_teste)\n",
    "resultado"
   ]
  }
 ],
 "metadata": {
  "kernelspec": {
   "display_name": "Python 3.10.9 ('venv': venv)",
   "language": "python",
   "name": "python3"
  },
  "language_info": {
   "codemirror_mode": {
    "name": "ipython",
    "version": 3
   },
   "file_extension": ".py",
   "mimetype": "text/x-python",
   "name": "python",
   "nbconvert_exporter": "python",
   "pygments_lexer": "ipython3",
   "version": "3.10.9"
  },
  "orig_nbformat": 4,
  "vscode": {
   "interpreter": {
    "hash": "b9da28906367cb44956c4a4013eec8f2c7a5ac4299e7c1dca237eb678ed4a9db"
   }
  }
 },
 "nbformat": 4,
 "nbformat_minor": 2
}
